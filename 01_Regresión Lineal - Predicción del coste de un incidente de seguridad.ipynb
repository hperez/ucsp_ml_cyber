{
 "cells": [
  {
   "cell_type": "markdown",
   "source": [
    "<div class=\"caja\" style =\"font-family: sans-serif;\r\n",
    "    font-size: 13px;\r\n",
    "    font-weight: 400;\r\n",
    "\t/*font-weight: bold;*/\r\n",
    "    color: #fff;\r\n",
    "    /*background: #889ccf;*/\r\n",
    "    margin: 0 0 25px;\r\n",
    "    overflow: hidden;\r\n",
    "    padding: 20px;\r\n",
    "    order: 10px solid #025280;\r\n",
    "    background: #0F80C1;\r\n",
    "    border-radius: 4px;\r\n",
    "    border-left: 3px solid #025280;\r\n",
    "    border-bottom: 2px solid #025280;\r\n",
    "    border-right: 1px solid #025280;\r\n",
    "    border-top: 0.5px solid #025280;\r\n",
    "    height: 35px;\r\n",
    "    padding: 10px;\">UCSP- DIP en Machine Learning, Deep Learning y sus Aplicaciones en Industria | Course 2: Modelos de Regresión, Clasificación y Agrupamiento | Profesor: Pablo Calcina Cari |  Presentado: Hector Pérez V.</div>"
   ],
   "metadata": {}
  },
  {
   "cell_type": "markdown",
   "source": [
    "# Caso de estudio: Costo de un incidente de seguridad\r\n",
    "## Regresión Lineal: Cost0 de un incidente de seguridad"
   ],
   "metadata": {}
  },
  {
   "cell_type": "markdown",
   "source": [
    "Se explican los fundamentos básicos de la regresión lineal aplicada a un caso de uso sencillo relacionado con la Ciberseguridad."
   ],
   "metadata": {}
  },
  {
   "cell_type": "markdown",
   "source": [
    "El caso de estudio consiste en predecir el coste de un incidente de seguridad en base al número de equipos que se han visto afectados. El conjunto de datos es generado de manera aleatoria."
   ],
   "metadata": {}
  },
  {
   "cell_type": "markdown",
   "source": [
    "### 1. Generación del conjunto de datos"
   ],
   "metadata": {}
  },
  {
   "cell_type": "code",
   "execution_count": 1,
   "source": [
    "import numpy as np\r\n",
    "\r\n",
    "X = 2 * np.random.rand(100, 1)\r\n",
    "y = 4 + 3 * X + np.random.randn(100, 1)\r\n",
    "\r\n",
    "print(X)\r\n",
    "print(\"La longitud del conjunto de datos es:\", len(X))"
   ],
   "outputs": [
    {
     "output_type": "stream",
     "name": "stdout",
     "text": [
      "[[1.36501056]\n",
      " [1.54039056]\n",
      " [0.44984751]\n",
      " [0.55375479]\n",
      " [1.8819656 ]\n",
      " [1.38314054]\n",
      " [1.97941065]\n",
      " [1.21362811]\n",
      " [1.80210183]\n",
      " [1.27044484]\n",
      " [0.02564075]\n",
      " [0.09202441]\n",
      " [1.54998853]\n",
      " [1.08479469]\n",
      " [1.49435905]\n",
      " [1.1156301 ]\n",
      " [0.68413964]\n",
      " [1.16166985]\n",
      " [0.93593374]\n",
      " [0.06470779]\n",
      " [1.25814687]\n",
      " [0.25498333]\n",
      " [0.12169064]\n",
      " [0.36938612]\n",
      " [1.54646411]\n",
      " [1.79760717]\n",
      " [1.6423636 ]\n",
      " [0.38840463]\n",
      " [0.71450253]\n",
      " [1.51069455]\n",
      " [1.09318958]\n",
      " [1.15467072]\n",
      " [1.40027089]\n",
      " [1.4873144 ]\n",
      " [0.68900518]\n",
      " [0.03378604]\n",
      " [0.1864105 ]\n",
      " [0.41679666]\n",
      " [1.18302307]\n",
      " [1.18195579]\n",
      " [0.33612978]\n",
      " [0.96496791]\n",
      " [1.50002646]\n",
      " [0.51009625]\n",
      " [1.572862  ]\n",
      " [1.23322021]\n",
      " [1.73867358]\n",
      " [1.68582576]\n",
      " [0.86586413]\n",
      " [0.55251342]\n",
      " [0.41304038]\n",
      " [0.33434962]\n",
      " [1.52020994]\n",
      " [0.24123874]\n",
      " [0.40483302]\n",
      " [1.00951451]\n",
      " [1.97413316]\n",
      " [1.8161425 ]\n",
      " [0.98751577]\n",
      " [1.99521639]\n",
      " [1.78427956]\n",
      " [0.53634056]\n",
      " [1.82823393]\n",
      " [1.04656901]\n",
      " [1.05795076]\n",
      " [1.82230608]\n",
      " [1.92206941]\n",
      " [0.67992033]\n",
      " [0.91573328]\n",
      " [1.843743  ]\n",
      " [1.95258346]\n",
      " [1.10570606]\n",
      " [1.22222692]\n",
      " [1.77465634]\n",
      " [0.19092022]\n",
      " [1.47577407]\n",
      " [1.21189675]\n",
      " [1.50867567]\n",
      " [1.04447507]\n",
      " [1.81551719]\n",
      " [0.42400764]\n",
      " [1.57246563]\n",
      " [0.80960926]\n",
      " [0.23697321]\n",
      " [1.55616322]\n",
      " [0.52600744]\n",
      " [0.76240779]\n",
      " [0.99195917]\n",
      " [0.78937535]\n",
      " [1.89235348]\n",
      " [0.50139862]\n",
      " [0.73326958]\n",
      " [1.11621069]\n",
      " [0.88559623]\n",
      " [1.89537156]\n",
      " [1.12299708]\n",
      " [1.77091642]\n",
      " [1.16319425]\n",
      " [0.47614605]\n",
      " [1.85368105]]\n",
      "La longitud del conjunto de datos es: 100\n"
     ]
    }
   ],
   "metadata": {}
  },
  {
   "cell_type": "markdown",
   "source": [
    "### 2. Visualización del conjunto de datos"
   ],
   "metadata": {}
  },
  {
   "cell_type": "code",
   "execution_count": 2,
   "source": [
    "import matplotlib.pyplot as plt\r\n",
    "%matplotlib inline"
   ],
   "outputs": [],
   "metadata": {}
  },
  {
   "cell_type": "code",
   "execution_count": 3,
   "source": [
    "plt.plot(X, y, \"b.\", label= 'datos')\r\n",
    "plt.legend()\r\n",
    "plt.show()"
   ],
   "outputs": [
    {
     "output_type": "display_data",
     "data": {
      "image/png": "[encoded data removed]",
      "text/plain": [
       "<Figure size 432x288 with 1 Axes>"
      ]
     },
     "metadata": {
      "needs_background": "light"
     }
    }
   ],
   "metadata": {}
  },
  {
   "cell_type": "code",
   "execution_count": 4,
   "source": [
    "plt.plot(X, y, \"b.\", label='Datos')\r\n",
    "plt.xlabel(\"Equipos afectados (u/1000)\")\r\n",
    "plt.ylabel(\"Coste del incidente (u/10000)\")\r\n",
    "plt.legend(loc=4)\r\n",
    "plt.show()"
   ],
   "outputs": [
    {
     "output_type": "display_data",
     "data": {
      "image/png": "[encoded data removed]",
      "text/plain": [
       "<Figure size 432x288 with 1 Axes>"
      ]
     },
     "metadata": {
      "needs_background": "light"
     }
    }
   ],
   "metadata": {}
  },
  {
   "cell_type": "markdown",
   "source": [
    "### 3. Modificación del conjunto de datos"
   ],
   "metadata": {}
  },
  {
   "cell_type": "code",
   "execution_count": 5,
   "source": [
    "import pandas as pd"
   ],
   "outputs": [],
   "metadata": {}
  },
  {
   "cell_type": "code",
   "execution_count": 6,
   "source": [
    "data = {'n_equipos_afectados': X.flatten(), 'coste': y.flatten()}\r\n",
    "df = pd.DataFrame(data)\r\n",
    "df.head(10)"
   ],
   "outputs": [
    {
     "output_type": "execute_result",
     "data": {
      "text/html": [
       "<div>\n",
       "<style scoped>\n",
       "    .dataframe tbody tr th:only-of-type {\n",
       "        vertical-align: middle;\n",
       "    }\n",
       "\n",
       "    .dataframe tbody tr th {\n",
       "        vertical-align: top;\n",
       "    }\n",
       "\n",
       "    .dataframe thead th {\n",
       "        text-align: right;\n",
       "    }\n",
       "</style>\n",
       "<table border=\"1\" class=\"dataframe\">\n",
       "  <thead>\n",
       "    <tr style=\"text-align: right;\">\n",
       "      <th></th>\n",
       "      <th>n_equipos_afectados</th>\n",
       "      <th>coste</th>\n",
       "    </tr>\n",
       "  </thead>\n",
       "  <tbody>\n",
       "    <tr>\n",
       "      <th>0</th>\n",
       "      <td>1.365011</td>\n",
       "      <td>8.012301</td>\n",
       "    </tr>\n",
       "    <tr>\n",
       "      <th>1</th>\n",
       "      <td>1.540391</td>\n",
       "      <td>8.645187</td>\n",
       "    </tr>\n",
       "    <tr>\n",
       "      <th>2</th>\n",
       "      <td>0.449848</td>\n",
       "      <td>6.463394</td>\n",
       "    </tr>\n",
       "    <tr>\n",
       "      <th>3</th>\n",
       "      <td>0.553755</td>\n",
       "      <td>5.312041</td>\n",
       "    </tr>\n",
       "    <tr>\n",
       "      <th>4</th>\n",
       "      <td>1.881966</td>\n",
       "      <td>9.609294</td>\n",
       "    </tr>\n",
       "    <tr>\n",
       "      <th>5</th>\n",
       "      <td>1.383141</td>\n",
       "      <td>8.142600</td>\n",
       "    </tr>\n",
       "    <tr>\n",
       "      <th>6</th>\n",
       "      <td>1.979411</td>\n",
       "      <td>9.761999</td>\n",
       "    </tr>\n",
       "    <tr>\n",
       "      <th>7</th>\n",
       "      <td>1.213628</td>\n",
       "      <td>7.579699</td>\n",
       "    </tr>\n",
       "    <tr>\n",
       "      <th>8</th>\n",
       "      <td>1.802102</td>\n",
       "      <td>9.969470</td>\n",
       "    </tr>\n",
       "    <tr>\n",
       "      <th>9</th>\n",
       "      <td>1.270445</td>\n",
       "      <td>8.026112</td>\n",
       "    </tr>\n",
       "  </tbody>\n",
       "</table>\n",
       "</div>"
      ],
      "text/plain": [
       "   n_equipos_afectados     coste\n",
       "0             1.365011  8.012301\n",
       "1             1.540391  8.645187\n",
       "2             0.449848  6.463394\n",
       "3             0.553755  5.312041\n",
       "4             1.881966  9.609294\n",
       "5             1.383141  8.142600\n",
       "6             1.979411  9.761999\n",
       "7             1.213628  7.579699\n",
       "8             1.802102  9.969470\n",
       "9             1.270445  8.026112"
      ]
     },
     "metadata": {},
     "execution_count": 6
    }
   ],
   "metadata": {}
  },
  {
   "cell_type": "code",
   "execution_count": 7,
   "source": [
    "# Escalado del número de equipos afectados\r\n",
    "df['n_equipos_afectados'] = df['n_equipos_afectados'] * 1000\r\n",
    "df['n_equipos_afectados'] = df['n_equipos_afectados'].astype('int')\r\n",
    "# Escalado del coste\r\n",
    "df['coste'] = df['coste'] * 10000\r\n",
    "df['coste'] = df['coste'].astype('int')\r\n",
    "df.head(10)"
   ],
   "outputs": [
    {
     "output_type": "execute_result",
     "data": {
      "text/html": [
       "<div>\n",
       "<style scoped>\n",
       "    .dataframe tbody tr th:only-of-type {\n",
       "        vertical-align: middle;\n",
       "    }\n",
       "\n",
       "    .dataframe tbody tr th {\n",
       "        vertical-align: top;\n",
       "    }\n",
       "\n",
       "    .dataframe thead th {\n",
       "        text-align: right;\n",
       "    }\n",
       "</style>\n",
       "<table border=\"1\" class=\"dataframe\">\n",
       "  <thead>\n",
       "    <tr style=\"text-align: right;\">\n",
       "      <th></th>\n",
       "      <th>n_equipos_afectados</th>\n",
       "      <th>coste</th>\n",
       "    </tr>\n",
       "  </thead>\n",
       "  <tbody>\n",
       "    <tr>\n",
       "      <th>0</th>\n",
       "      <td>1365</td>\n",
       "      <td>80123</td>\n",
       "    </tr>\n",
       "    <tr>\n",
       "      <th>1</th>\n",
       "      <td>1540</td>\n",
       "      <td>86451</td>\n",
       "    </tr>\n",
       "    <tr>\n",
       "      <th>2</th>\n",
       "      <td>449</td>\n",
       "      <td>64633</td>\n",
       "    </tr>\n",
       "    <tr>\n",
       "      <th>3</th>\n",
       "      <td>553</td>\n",
       "      <td>53120</td>\n",
       "    </tr>\n",
       "    <tr>\n",
       "      <th>4</th>\n",
       "      <td>1881</td>\n",
       "      <td>96092</td>\n",
       "    </tr>\n",
       "    <tr>\n",
       "      <th>5</th>\n",
       "      <td>1383</td>\n",
       "      <td>81425</td>\n",
       "    </tr>\n",
       "    <tr>\n",
       "      <th>6</th>\n",
       "      <td>1979</td>\n",
       "      <td>97619</td>\n",
       "    </tr>\n",
       "    <tr>\n",
       "      <th>7</th>\n",
       "      <td>1213</td>\n",
       "      <td>75796</td>\n",
       "    </tr>\n",
       "    <tr>\n",
       "      <th>8</th>\n",
       "      <td>1802</td>\n",
       "      <td>99694</td>\n",
       "    </tr>\n",
       "    <tr>\n",
       "      <th>9</th>\n",
       "      <td>1270</td>\n",
       "      <td>80261</td>\n",
       "    </tr>\n",
       "  </tbody>\n",
       "</table>\n",
       "</div>"
      ],
      "text/plain": [
       "   n_equipos_afectados  coste\n",
       "0                 1365  80123\n",
       "1                 1540  86451\n",
       "2                  449  64633\n",
       "3                  553  53120\n",
       "4                 1881  96092\n",
       "5                 1383  81425\n",
       "6                 1979  97619\n",
       "7                 1213  75796\n",
       "8                 1802  99694\n",
       "9                 1270  80261"
      ]
     },
     "metadata": {},
     "execution_count": 7
    }
   ],
   "metadata": {}
  },
  {
   "cell_type": "code",
   "execution_count": 8,
   "source": [
    "# Representación gráfica del conjunto de datos\r\n",
    "plt.plot(df['n_equipos_afectados'], df['coste'], \"g.\")\r\n",
    "plt.xlabel(\"Equipos afectados\")\r\n",
    "plt.ylabel(\"Coste del incidente\")\r\n",
    "plt.show()"
   ],
   "outputs": [
    {
     "output_type": "display_data",
     "data": {
      "image/png": "[encoded data removed]",
      "text/plain": [
       "<Figure size 432x288 with 1 Axes>"
      ]
     },
     "metadata": {
      "needs_background": "light"
     }
    }
   ],
   "metadata": {}
  },
  {
   "cell_type": "markdown",
   "source": [
    "### 4. Construcción del modelo"
   ],
   "metadata": {}
  },
  {
   "cell_type": "code",
   "execution_count": 9,
   "source": [
    "from sklearn.linear_model import LinearRegression"
   ],
   "outputs": [],
   "metadata": {}
  },
  {
   "cell_type": "code",
   "execution_count": 10,
   "source": [
    "# Construcción del modelo y ajuste de la función hipótesis\r\n",
    "lin_reg = LinearRegression()\r\n",
    "lin_reg.fit(df['n_equipos_afectados'].values.reshape(-1, 1), df['coste'].values)"
   ],
   "outputs": [
    {
     "output_type": "execute_result",
     "data": {
      "text/plain": [
       "LinearRegression()"
      ]
     },
     "metadata": {},
     "execution_count": 10
    }
   ],
   "metadata": {}
  },
  {
   "cell_type": "code",
   "execution_count": 11,
   "source": [
    "# Parámetro theta 0\r\n",
    "lin_reg.intercept_"
   ],
   "outputs": [
    {
     "output_type": "execute_result",
     "data": {
      "text/plain": [
       "39467.64185483493"
      ]
     },
     "metadata": {},
     "execution_count": 11
    }
   ],
   "metadata": {}
  },
  {
   "cell_type": "code",
   "execution_count": 12,
   "source": [
    "# Parámetro theta 1\r\n",
    "lin_reg.coef_"
   ],
   "outputs": [
    {
     "output_type": "execute_result",
     "data": {
      "text/plain": [
       "array([29.28003776])"
      ]
     },
     "metadata": {},
     "execution_count": 12
    }
   ],
   "metadata": {}
  },
  {
   "cell_type": "code",
   "execution_count": 13,
   "source": [
    "# Predicción para el valor mínimo y máximo del conjunto de datos de entrenamiento\r\n",
    "X_min_max = np.array([[df[\"n_equipos_afectados\"].min()], [df[\"n_equipos_afectados\"].max()]])\r\n",
    "y_train_pred = lin_reg.predict(X_min_max)"
   ],
   "outputs": [],
   "metadata": {}
  },
  {
   "cell_type": "code",
   "execution_count": 14,
   "source": [
    "# Representación gráfica de la función hipótesis generada\r\n",
    "plt.plot(X_min_max, y_train_pred, \"g-\")\r\n",
    "plt.plot(df['n_equipos_afectados'], df['coste'], \"b.\")\r\n",
    "plt.xlabel(\"Equipos afectados\")\r\n",
    "plt.ylabel(\"Coste del incidente\")\r\n",
    "plt.show()"
   ],
   "outputs": [
    {
     "output_type": "display_data",
     "data": {
      "image/png": "[encoded data removed]",
      "text/plain": [
       "<Figure size 432x288 with 1 Axes>"
      ]
     },
     "metadata": {
      "needs_background": "light"
     }
    }
   ],
   "metadata": {}
  },
  {
   "cell_type": "markdown",
   "source": [
    "### 5. Predicción de nuevos ejemplos"
   ],
   "metadata": {}
  },
  {
   "cell_type": "code",
   "execution_count": 15,
   "source": [
    "x_new = np.array([[900]]) # 900 equipos afectados\r\n",
    "\r\n",
    "# Predicción del coste que tendría el incidente\r\n",
    "coste = lin_reg.predict(x_new) \r\n",
    "\r\n",
    "#print(\"El coste del incidente sería:\", int(coste[0]), \"S/\")\r\n",
    "print(f\"El coste del incidente sería: S/ { int(coste[0])}\")"
   ],
   "outputs": [
    {
     "output_type": "stream",
     "name": "stdout",
     "text": [
      "El coste del incidente sería: S/ 65819\n"
     ]
    }
   ],
   "metadata": {}
  },
  {
   "cell_type": "code",
   "execution_count": 16,
   "source": [
    "plt.plot(df['n_equipos_afectados'], df['coste'], \"b.\")\r\n",
    "plt.plot(X_min_max, y_train_pred, \"g-\")\r\n",
    "plt.plot(x_new, coste, \"rx\")\r\n",
    "plt.xlabel(\"Equipos afectados\")\r\n",
    "plt.ylabel(\"Coste del incidente\")\r\n",
    "plt.show()"
   ],
   "outputs": [
    {
     "output_type": "display_data",
     "data": {
      "image/png": "[encoded data removed]",
      "text/plain": [
       "<Figure size 432x288 with 1 Axes>"
      ]
     },
     "metadata": {
      "needs_background": "light"
     }
    }
   ],
   "metadata": {}
  },
  {
   "cell_type": "code",
   "execution_count": null,
   "source": [],
   "outputs": [],
   "metadata": {}
  }
 ],
 "metadata": {
  "kernelspec": {
   "name": "python3",
   "display_name": "Python 3.8.11 64-bit ('base': conda)"
  },
  "language_info": {
   "codemirror_mode": {
    "name": "ipython",
    "version": 3
   },
   "file_extension": ".py",
   "mimetype": "text/x-python",
   "name": "python",
   "nbconvert_exporter": "python",
   "pygments_lexer": "ipython3",
   "version": "3.8.11"
  },
  "interpreter": {
   "hash": "b3ba2566441a7c06988d0923437866b63cedc61552a5af99d1f4fb67d367b25f"
  }
 },
 "nbformat": 4,
 "nbformat_minor": 2
}