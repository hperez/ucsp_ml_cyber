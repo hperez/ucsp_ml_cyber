{
 "cells": [
  {
   "cell_type": "markdown",
   "source": [
    "<div class=\"caja\" style =\"font-family: sans-serif;\r\n",
    "    font-size: 13px;\r\n",
    "    font-weight: 400;\r\n",
    "\t/*font-weight: bold;*/\r\n",
    "    color: #fff;\r\n",
    "    /*background: #889ccf;*/\r\n",
    "    margin: 0 0 25px;\r\n",
    "    overflow: hidden;\r\n",
    "    padding: 20px;\r\n",
    "    order: 10px solid #025280;\r\n",
    "    background: #0F80C1;\r\n",
    "    border-radius: 4px;\r\n",
    "    border-left: 3px solid #025280;\r\n",
    "    border-bottom: 2px solid #025280;\r\n",
    "    border-right: 1px solid #025280;\r\n",
    "    border-top: 0.5px solid #025280;\r\n",
    "    height: 35px;\r\n",
    "    padding: 10px;\">UCSP- DIP en Machine Learning, Deep Learning y sus Aplicaciones en Industria | Course 2: Modelos de Regresión, Clasificación y Agrupamiento | Profesor: Jose Ocho Luna |  Presentado: Hector Pérez V.</div>"
   ],
   "metadata": {}
  },
  {
   "cell_type": "markdown",
   "source": [
    "## Filtros Spam con Naive Bayes\r\n",
    "\r\n",
    "## Explorando Dataset\r\n"
   ],
   "metadata": {}
  },
  {
   "cell_type": "code",
   "execution_count": 1,
   "source": [
    "import pandas as pd\r\n",
    "\r\n",
    "sms_spam = pd.read_csv('data/SMSSpamCollection', sep='\\t', header=None, names=['Label', 'SMS'])\r\n",
    "\r\n",
    "print(sms_spam.shape)\r\n",
    "sms_spam.head()"
   ],
   "outputs": [
    {
     "output_type": "stream",
     "name": "stdout",
     "text": [
      "(5572, 2)\n"
     ]
    },
    {
     "output_type": "execute_result",
     "data": {
      "text/html": [
       "<div>\n",
       "<style scoped>\n",
       "    .dataframe tbody tr th:only-of-type {\n",
       "        vertical-align: middle;\n",
       "    }\n",
       "\n",
       "    .dataframe tbody tr th {\n",
       "        vertical-align: top;\n",
       "    }\n",
       "\n",
       "    .dataframe thead th {\n",
       "        text-align: right;\n",
       "    }\n",
       "</style>\n",
       "<table border=\"1\" class=\"dataframe\">\n",
       "  <thead>\n",
       "    <tr style=\"text-align: right;\">\n",
       "      <th></th>\n",
       "      <th>Label</th>\n",
       "      <th>SMS</th>\n",
       "    </tr>\n",
       "  </thead>\n",
       "  <tbody>\n",
       "    <tr>\n",
       "      <th>0</th>\n",
       "      <td>ham</td>\n",
       "      <td>Go until jurong point, crazy.. Available only ...</td>\n",
       "    </tr>\n",
       "    <tr>\n",
       "      <th>1</th>\n",
       "      <td>ham</td>\n",
       "      <td>Ok lar... Joking wif u oni...</td>\n",
       "    </tr>\n",
       "    <tr>\n",
       "      <th>2</th>\n",
       "      <td>spam</td>\n",
       "      <td>Free entry in 2 a wkly comp to win FA Cup fina...</td>\n",
       "    </tr>\n",
       "    <tr>\n",
       "      <th>3</th>\n",
       "      <td>ham</td>\n",
       "      <td>U dun say so early hor... U c already then say...</td>\n",
       "    </tr>\n",
       "    <tr>\n",
       "      <th>4</th>\n",
       "      <td>ham</td>\n",
       "      <td>Nah I don't think he goes to usf, he lives aro...</td>\n",
       "    </tr>\n",
       "  </tbody>\n",
       "</table>\n",
       "</div>"
      ],
      "text/plain": [
       "  Label                                                SMS\n",
       "0   ham  Go until jurong point, crazy.. Available only ...\n",
       "1   ham                      Ok lar... Joking wif u oni...\n",
       "2  spam  Free entry in 2 a wkly comp to win FA Cup fina...\n",
       "3   ham  U dun say so early hor... U c already then say...\n",
       "4   ham  Nah I don't think he goes to usf, he lives aro..."
      ]
     },
     "metadata": {},
     "execution_count": 1
    }
   ],
   "metadata": {}
  },
  {
   "cell_type": "markdown",
   "source": [
    "A continuación, vemos que alrededor del 87% de los mensajes son `ham` y el 13% restante son `spam`. Esta muestra parece representativa, ya que en la práctica la mayoría de los mensajes que recibe la gente son `ham`."
   ],
   "metadata": {}
  },
  {
   "cell_type": "code",
   "execution_count": 2,
   "source": [
    "sms_spam['Label'].value_counts(normalize=True)"
   ],
   "outputs": [
    {
     "output_type": "execute_result",
     "data": {
      "text/plain": [
       "ham     0.865937\n",
       "spam    0.134063\n",
       "Name: Label, dtype: float64"
      ]
     },
     "metadata": {},
     "execution_count": 2
    }
   ],
   "metadata": {}
  },
  {
   "cell_type": "markdown",
   "source": [
    "## Conjunto de entrenamiento y prueba\r\n",
    "\r\n",
    "Conjunto de entrenamiento representa el 80% de los datos y el conjunto de prueba el 20% restante."
   ],
   "metadata": {}
  },
  {
   "cell_type": "code",
   "execution_count": 3,
   "source": [
    "# Conjunto de datos alearorio\r\n",
    "data_randomized = sms_spam.sample(frac=1, random_state=1)\r\n",
    "\r\n",
    "# Calcular el indice par split\r\n",
    "training_test_index = round(len(data_randomized) * 0.8)\r\n",
    "\r\n",
    "# Training/Test split\r\n",
    "training_set = data_randomized[:training_test_index].reset_index(drop=True)\r\n",
    "test_set = data_randomized[training_test_index:].reset_index(drop=True)\r\n",
    "\r\n",
    "print(training_set.shape)\r\n",
    "print(test_set.shape)"
   ],
   "outputs": [
    {
     "output_type": "stream",
     "name": "stdout",
     "text": [
      "(4458, 2)\n",
      "(1114, 2)\n"
     ]
    }
   ],
   "metadata": {}
  },
  {
   "cell_type": "markdown",
   "source": [
    "Esperamos que los porcentajes se acerquen a lo que tenemos en el conjunto de datos completo, donde alrededor del 87% de los mensajes son `ham` y el 13% restante son `spam`"
   ],
   "metadata": {}
  },
  {
   "cell_type": "code",
   "execution_count": 4,
   "source": [
    "training_set['Label'].value_counts(normalize=True)"
   ],
   "outputs": [
    {
     "output_type": "execute_result",
     "data": {
      "text/plain": [
       "ham     0.86541\n",
       "spam    0.13459\n",
       "Name: Label, dtype: float64"
      ]
     },
     "metadata": {},
     "execution_count": 4
    }
   ],
   "metadata": {}
  },
  {
   "cell_type": "code",
   "execution_count": 5,
   "source": [
    "test_set['Label'].value_counts(normalize=True)"
   ],
   "outputs": [
    {
     "output_type": "execute_result",
     "data": {
      "text/plain": [
       "ham     0.868043\n",
       "spam    0.131957\n",
       "Name: Label, dtype: float64"
      ]
     },
     "metadata": {},
     "execution_count": 5
    }
   ],
   "metadata": {}
  },
  {
   "cell_type": "markdown",
   "source": [
    "## Limpieza de Datos\r\n",
    "limpieza de datos para traer los datos en un formato que nos permita extraer fácilmente toda la información que necesitamos.\r\n",
    "\r\n",
    "Básicamente, queremos llevar los datos a este formato:\r\n",
    "\r\n",
    "img\r\n",
    "\r\n",
    "### Letras Mayusculas  y minusculas  y signos  de  puntuación\r\n"
   ],
   "metadata": {}
  },
  {
   "cell_type": "code",
   "execution_count": 6,
   "source": [
    "# Antes de la limpieza de datos\r\n",
    "training_set.head()"
   ],
   "outputs": [
    {
     "output_type": "execute_result",
     "data": {
      "text/html": [
       "<div>\n",
       "<style scoped>\n",
       "    .dataframe tbody tr th:only-of-type {\n",
       "        vertical-align: middle;\n",
       "    }\n",
       "\n",
       "    .dataframe tbody tr th {\n",
       "        vertical-align: top;\n",
       "    }\n",
       "\n",
       "    .dataframe thead th {\n",
       "        text-align: right;\n",
       "    }\n",
       "</style>\n",
       "<table border=\"1\" class=\"dataframe\">\n",
       "  <thead>\n",
       "    <tr style=\"text-align: right;\">\n",
       "      <th></th>\n",
       "      <th>Label</th>\n",
       "      <th>SMS</th>\n",
       "    </tr>\n",
       "  </thead>\n",
       "  <tbody>\n",
       "    <tr>\n",
       "      <th>0</th>\n",
       "      <td>ham</td>\n",
       "      <td>Yep, by the pretty sculpture</td>\n",
       "    </tr>\n",
       "    <tr>\n",
       "      <th>1</th>\n",
       "      <td>ham</td>\n",
       "      <td>Yes, princess. Are you going to make me moan?</td>\n",
       "    </tr>\n",
       "    <tr>\n",
       "      <th>2</th>\n",
       "      <td>ham</td>\n",
       "      <td>Welp apparently he retired</td>\n",
       "    </tr>\n",
       "    <tr>\n",
       "      <th>3</th>\n",
       "      <td>ham</td>\n",
       "      <td>Havent.</td>\n",
       "    </tr>\n",
       "    <tr>\n",
       "      <th>4</th>\n",
       "      <td>ham</td>\n",
       "      <td>I forgot 2 ask ü all smth.. There's a card on ...</td>\n",
       "    </tr>\n",
       "  </tbody>\n",
       "</table>\n",
       "</div>"
      ],
      "text/plain": [
       "  Label                                                SMS\n",
       "0   ham                       Yep, by the pretty sculpture\n",
       "1   ham      Yes, princess. Are you going to make me moan?\n",
       "2   ham                         Welp apparently he retired\n",
       "3   ham                                            Havent.\n",
       "4   ham  I forgot 2 ask ü all smth.. There's a card on ..."
      ]
     },
     "metadata": {},
     "execution_count": 6
    }
   ],
   "metadata": {}
  },
  {
   "cell_type": "code",
   "execution_count": 7,
   "source": [
    "# Despues de la limpieza de datos\r\n",
    "training_set['SMS'] = training_set['SMS'].str.replace('\\W', ' ')\r\n",
    "training_set['SMS'] = training_set['SMS'].str.lower()\r\n",
    "training_set.head()"
   ],
   "outputs": [
    {
     "output_type": "stream",
     "name": "stderr",
     "text": [
      "C:\\Users\\HECTOR\\AppData\\Local\\Temp/ipykernel_15476/3036846089.py:2: FutureWarning: The default value of regex will change from True to False in a future version.\n",
      "  training_set['SMS'] = training_set['SMS'].str.replace('\\W', ' ')\n"
     ]
    },
    {
     "output_type": "execute_result",
     "data": {
      "text/html": [
       "<div>\n",
       "<style scoped>\n",
       "    .dataframe tbody tr th:only-of-type {\n",
       "        vertical-align: middle;\n",
       "    }\n",
       "\n",
       "    .dataframe tbody tr th {\n",
       "        vertical-align: top;\n",
       "    }\n",
       "\n",
       "    .dataframe thead th {\n",
       "        text-align: right;\n",
       "    }\n",
       "</style>\n",
       "<table border=\"1\" class=\"dataframe\">\n",
       "  <thead>\n",
       "    <tr style=\"text-align: right;\">\n",
       "      <th></th>\n",
       "      <th>Label</th>\n",
       "      <th>SMS</th>\n",
       "    </tr>\n",
       "  </thead>\n",
       "  <tbody>\n",
       "    <tr>\n",
       "      <th>0</th>\n",
       "      <td>ham</td>\n",
       "      <td>yep  by the pretty sculpture</td>\n",
       "    </tr>\n",
       "    <tr>\n",
       "      <th>1</th>\n",
       "      <td>ham</td>\n",
       "      <td>yes  princess  are you going to make me moan</td>\n",
       "    </tr>\n",
       "    <tr>\n",
       "      <th>2</th>\n",
       "      <td>ham</td>\n",
       "      <td>welp apparently he retired</td>\n",
       "    </tr>\n",
       "    <tr>\n",
       "      <th>3</th>\n",
       "      <td>ham</td>\n",
       "      <td>havent</td>\n",
       "    </tr>\n",
       "    <tr>\n",
       "      <th>4</th>\n",
       "      <td>ham</td>\n",
       "      <td>i forgot 2 ask ü all smth   there s a card on ...</td>\n",
       "    </tr>\n",
       "  </tbody>\n",
       "</table>\n",
       "</div>"
      ],
      "text/plain": [
       "  Label                                                SMS\n",
       "0   ham                       yep  by the pretty sculpture\n",
       "1   ham      yes  princess  are you going to make me moan \n",
       "2   ham                         welp apparently he retired\n",
       "3   ham                                            havent \n",
       "4   ham  i forgot 2 ask ü all smth   there s a card on ..."
      ]
     },
     "metadata": {},
     "execution_count": 7
    }
   ],
   "metadata": {}
  },
  {
   "cell_type": "markdown",
   "source": [
    "### Creando el vocabulario\r\n",
    "Creación del vocabulario, que en este contexto significa una lista con todas las palabras únicas en nuestro conjunto de entrenamiento"
   ],
   "metadata": {}
  },
  {
   "cell_type": "code",
   "execution_count": 8,
   "source": [
    "training_set['SMS'] = training_set['SMS'].str.split()\r\n",
    "\r\n",
    "vocabulary = []\r\n",
    "for sms in training_set['SMS']:\r\n",
    "    for word in sms:\r\n",
    "        vocabulary.append(word)\r\n",
    "        \r\n",
    "vocabulary = list(set(vocabulary))"
   ],
   "outputs": [],
   "metadata": {}
  },
  {
   "cell_type": "markdown",
   "source": [
    "7783 palabras únicas en todos los mensajes  de nuestro data set"
   ],
   "metadata": {}
  },
  {
   "cell_type": "code",
   "execution_count": 9,
   "source": [
    "len(vocabulary)"
   ],
   "outputs": [
    {
     "output_type": "execute_result",
     "data": {
      "text/plain": [
       "7783"
      ]
     },
     "metadata": {},
     "execution_count": 9
    }
   ],
   "metadata": {}
  },
  {
   "cell_type": "markdown",
   "source": [
    "### El conjunto de entrenamiento final\r\n",
    "\r\n",
    "Ahora vamos a utilizar el vocabulario que acabamos de crear para realizar la transformación de datos que queremos"
   ],
   "metadata": {}
  },
  {
   "cell_type": "code",
   "execution_count": 10,
   "source": [
    "word_counts_per_sms = {unique_word: [0] * len(training_set['SMS']) for unique_word in vocabulary}\r\n",
    "\r\n",
    "for index, sms in enumerate(training_set['SMS']):\r\n",
    "    for word in sms:\r\n",
    "        word_counts_per_sms[word][index] += 1"
   ],
   "outputs": [],
   "metadata": {}
  },
  {
   "cell_type": "code",
   "execution_count": 11,
   "source": [
    "word_counts = pd.DataFrame(word_counts_per_sms)\r\n",
    "word_counts.head()"
   ],
   "outputs": [
    {
     "output_type": "execute_result",
     "data": {
      "text/html": [
       "<div>\n",
       "<style scoped>\n",
       "    .dataframe tbody tr th:only-of-type {\n",
       "        vertical-align: middle;\n",
       "    }\n",
       "\n",
       "    .dataframe tbody tr th {\n",
       "        vertical-align: top;\n",
       "    }\n",
       "\n",
       "    .dataframe thead th {\n",
       "        text-align: right;\n",
       "    }\n",
       "</style>\n",
       "<table border=\"1\" class=\"dataframe\">\n",
       "  <thead>\n",
       "    <tr style=\"text-align: right;\">\n",
       "      <th></th>\n",
       "      <th>bruce</th>\n",
       "      <th>wishes</th>\n",
       "      <th>ive</th>\n",
       "      <th>on</th>\n",
       "      <th>gonnamissu</th>\n",
       "      <th>shared</th>\n",
       "      <th>ends</th>\n",
       "      <th>imprtant</th>\n",
       "      <th>cricket</th>\n",
       "      <th>luks</th>\n",
       "      <th>...</th>\n",
       "      <th>scotland</th>\n",
       "      <th>teacher</th>\n",
       "      <th>instructions</th>\n",
       "      <th>unspoken</th>\n",
       "      <th>06</th>\n",
       "      <th>praises</th>\n",
       "      <th>totes</th>\n",
       "      <th>challenging</th>\n",
       "      <th>31p</th>\n",
       "      <th>tigress</th>\n",
       "    </tr>\n",
       "  </thead>\n",
       "  <tbody>\n",
       "    <tr>\n",
       "      <th>0</th>\n",
       "      <td>0</td>\n",
       "      <td>0</td>\n",
       "      <td>0</td>\n",
       "      <td>0</td>\n",
       "      <td>0</td>\n",
       "      <td>0</td>\n",
       "      <td>0</td>\n",
       "      <td>0</td>\n",
       "      <td>0</td>\n",
       "      <td>0</td>\n",
       "      <td>...</td>\n",
       "      <td>0</td>\n",
       "      <td>0</td>\n",
       "      <td>0</td>\n",
       "      <td>0</td>\n",
       "      <td>0</td>\n",
       "      <td>0</td>\n",
       "      <td>0</td>\n",
       "      <td>0</td>\n",
       "      <td>0</td>\n",
       "      <td>0</td>\n",
       "    </tr>\n",
       "    <tr>\n",
       "      <th>1</th>\n",
       "      <td>0</td>\n",
       "      <td>0</td>\n",
       "      <td>0</td>\n",
       "      <td>0</td>\n",
       "      <td>0</td>\n",
       "      <td>0</td>\n",
       "      <td>0</td>\n",
       "      <td>0</td>\n",
       "      <td>0</td>\n",
       "      <td>0</td>\n",
       "      <td>...</td>\n",
       "      <td>0</td>\n",
       "      <td>0</td>\n",
       "      <td>0</td>\n",
       "      <td>0</td>\n",
       "      <td>0</td>\n",
       "      <td>0</td>\n",
       "      <td>0</td>\n",
       "      <td>0</td>\n",
       "      <td>0</td>\n",
       "      <td>0</td>\n",
       "    </tr>\n",
       "    <tr>\n",
       "      <th>2</th>\n",
       "      <td>0</td>\n",
       "      <td>0</td>\n",
       "      <td>0</td>\n",
       "      <td>0</td>\n",
       "      <td>0</td>\n",
       "      <td>0</td>\n",
       "      <td>0</td>\n",
       "      <td>0</td>\n",
       "      <td>0</td>\n",
       "      <td>0</td>\n",
       "      <td>...</td>\n",
       "      <td>0</td>\n",
       "      <td>0</td>\n",
       "      <td>0</td>\n",
       "      <td>0</td>\n",
       "      <td>0</td>\n",
       "      <td>0</td>\n",
       "      <td>0</td>\n",
       "      <td>0</td>\n",
       "      <td>0</td>\n",
       "      <td>0</td>\n",
       "    </tr>\n",
       "    <tr>\n",
       "      <th>3</th>\n",
       "      <td>0</td>\n",
       "      <td>0</td>\n",
       "      <td>0</td>\n",
       "      <td>0</td>\n",
       "      <td>0</td>\n",
       "      <td>0</td>\n",
       "      <td>0</td>\n",
       "      <td>0</td>\n",
       "      <td>0</td>\n",
       "      <td>0</td>\n",
       "      <td>...</td>\n",
       "      <td>0</td>\n",
       "      <td>0</td>\n",
       "      <td>0</td>\n",
       "      <td>0</td>\n",
       "      <td>0</td>\n",
       "      <td>0</td>\n",
       "      <td>0</td>\n",
       "      <td>0</td>\n",
       "      <td>0</td>\n",
       "      <td>0</td>\n",
       "    </tr>\n",
       "    <tr>\n",
       "      <th>4</th>\n",
       "      <td>0</td>\n",
       "      <td>0</td>\n",
       "      <td>0</td>\n",
       "      <td>2</td>\n",
       "      <td>0</td>\n",
       "      <td>0</td>\n",
       "      <td>0</td>\n",
       "      <td>0</td>\n",
       "      <td>0</td>\n",
       "      <td>0</td>\n",
       "      <td>...</td>\n",
       "      <td>0</td>\n",
       "      <td>0</td>\n",
       "      <td>0</td>\n",
       "      <td>0</td>\n",
       "      <td>0</td>\n",
       "      <td>0</td>\n",
       "      <td>0</td>\n",
       "      <td>0</td>\n",
       "      <td>0</td>\n",
       "      <td>0</td>\n",
       "    </tr>\n",
       "  </tbody>\n",
       "</table>\n",
       "<p>5 rows × 7783 columns</p>\n",
       "</div>"
      ],
      "text/plain": [
       "   bruce  wishes  ive  on  gonnamissu  shared  ends  imprtant  cricket  luks  \\\n",
       "0      0       0    0   0           0       0     0         0        0     0   \n",
       "1      0       0    0   0           0       0     0         0        0     0   \n",
       "2      0       0    0   0           0       0     0         0        0     0   \n",
       "3      0       0    0   0           0       0     0         0        0     0   \n",
       "4      0       0    0   2           0       0     0         0        0     0   \n",
       "\n",
       "   ...  scotland  teacher  instructions  unspoken  06  praises  totes  \\\n",
       "0  ...         0        0             0         0   0        0      0   \n",
       "1  ...         0        0             0         0   0        0      0   \n",
       "2  ...         0        0             0         0   0        0      0   \n",
       "3  ...         0        0             0         0   0        0      0   \n",
       "4  ...         0        0             0         0   0        0      0   \n",
       "\n",
       "   challenging  31p  tigress  \n",
       "0            0    0        0  \n",
       "1            0    0        0  \n",
       "2            0    0        0  \n",
       "3            0    0        0  \n",
       "4            0    0        0  \n",
       "\n",
       "[5 rows x 7783 columns]"
      ]
     },
     "metadata": {},
     "execution_count": 11
    }
   ],
   "metadata": {}
  },
  {
   "cell_type": "code",
   "execution_count": 12,
   "source": [
    "training_set_clean = pd.concat([training_set, word_counts], axis=1)\r\n",
    "training_set_clean.head()"
   ],
   "outputs": [
    {
     "output_type": "execute_result",
     "data": {
      "text/html": [
       "<div>\n",
       "<style scoped>\n",
       "    .dataframe tbody tr th:only-of-type {\n",
       "        vertical-align: middle;\n",
       "    }\n",
       "\n",
       "    .dataframe tbody tr th {\n",
       "        vertical-align: top;\n",
       "    }\n",
       "\n",
       "    .dataframe thead th {\n",
       "        text-align: right;\n",
       "    }\n",
       "</style>\n",
       "<table border=\"1\" class=\"dataframe\">\n",
       "  <thead>\n",
       "    <tr style=\"text-align: right;\">\n",
       "      <th></th>\n",
       "      <th>Label</th>\n",
       "      <th>SMS</th>\n",
       "      <th>bruce</th>\n",
       "      <th>wishes</th>\n",
       "      <th>ive</th>\n",
       "      <th>on</th>\n",
       "      <th>gonnamissu</th>\n",
       "      <th>shared</th>\n",
       "      <th>ends</th>\n",
       "      <th>imprtant</th>\n",
       "      <th>...</th>\n",
       "      <th>scotland</th>\n",
       "      <th>teacher</th>\n",
       "      <th>instructions</th>\n",
       "      <th>unspoken</th>\n",
       "      <th>06</th>\n",
       "      <th>praises</th>\n",
       "      <th>totes</th>\n",
       "      <th>challenging</th>\n",
       "      <th>31p</th>\n",
       "      <th>tigress</th>\n",
       "    </tr>\n",
       "  </thead>\n",
       "  <tbody>\n",
       "    <tr>\n",
       "      <th>0</th>\n",
       "      <td>ham</td>\n",
       "      <td>[yep, by, the, pretty, sculpture]</td>\n",
       "      <td>0</td>\n",
       "      <td>0</td>\n",
       "      <td>0</td>\n",
       "      <td>0</td>\n",
       "      <td>0</td>\n",
       "      <td>0</td>\n",
       "      <td>0</td>\n",
       "      <td>0</td>\n",
       "      <td>...</td>\n",
       "      <td>0</td>\n",
       "      <td>0</td>\n",
       "      <td>0</td>\n",
       "      <td>0</td>\n",
       "      <td>0</td>\n",
       "      <td>0</td>\n",
       "      <td>0</td>\n",
       "      <td>0</td>\n",
       "      <td>0</td>\n",
       "      <td>0</td>\n",
       "    </tr>\n",
       "    <tr>\n",
       "      <th>1</th>\n",
       "      <td>ham</td>\n",
       "      <td>[yes, princess, are, you, going, to, make, me,...</td>\n",
       "      <td>0</td>\n",
       "      <td>0</td>\n",
       "      <td>0</td>\n",
       "      <td>0</td>\n",
       "      <td>0</td>\n",
       "      <td>0</td>\n",
       "      <td>0</td>\n",
       "      <td>0</td>\n",
       "      <td>...</td>\n",
       "      <td>0</td>\n",
       "      <td>0</td>\n",
       "      <td>0</td>\n",
       "      <td>0</td>\n",
       "      <td>0</td>\n",
       "      <td>0</td>\n",
       "      <td>0</td>\n",
       "      <td>0</td>\n",
       "      <td>0</td>\n",
       "      <td>0</td>\n",
       "    </tr>\n",
       "    <tr>\n",
       "      <th>2</th>\n",
       "      <td>ham</td>\n",
       "      <td>[welp, apparently, he, retired]</td>\n",
       "      <td>0</td>\n",
       "      <td>0</td>\n",
       "      <td>0</td>\n",
       "      <td>0</td>\n",
       "      <td>0</td>\n",
       "      <td>0</td>\n",
       "      <td>0</td>\n",
       "      <td>0</td>\n",
       "      <td>...</td>\n",
       "      <td>0</td>\n",
       "      <td>0</td>\n",
       "      <td>0</td>\n",
       "      <td>0</td>\n",
       "      <td>0</td>\n",
       "      <td>0</td>\n",
       "      <td>0</td>\n",
       "      <td>0</td>\n",
       "      <td>0</td>\n",
       "      <td>0</td>\n",
       "    </tr>\n",
       "    <tr>\n",
       "      <th>3</th>\n",
       "      <td>ham</td>\n",
       "      <td>[havent]</td>\n",
       "      <td>0</td>\n",
       "      <td>0</td>\n",
       "      <td>0</td>\n",
       "      <td>0</td>\n",
       "      <td>0</td>\n",
       "      <td>0</td>\n",
       "      <td>0</td>\n",
       "      <td>0</td>\n",
       "      <td>...</td>\n",
       "      <td>0</td>\n",
       "      <td>0</td>\n",
       "      <td>0</td>\n",
       "      <td>0</td>\n",
       "      <td>0</td>\n",
       "      <td>0</td>\n",
       "      <td>0</td>\n",
       "      <td>0</td>\n",
       "      <td>0</td>\n",
       "      <td>0</td>\n",
       "    </tr>\n",
       "    <tr>\n",
       "      <th>4</th>\n",
       "      <td>ham</td>\n",
       "      <td>[i, forgot, 2, ask, ü, all, smth, there, s, a,...</td>\n",
       "      <td>0</td>\n",
       "      <td>0</td>\n",
       "      <td>0</td>\n",
       "      <td>2</td>\n",
       "      <td>0</td>\n",
       "      <td>0</td>\n",
       "      <td>0</td>\n",
       "      <td>0</td>\n",
       "      <td>...</td>\n",
       "      <td>0</td>\n",
       "      <td>0</td>\n",
       "      <td>0</td>\n",
       "      <td>0</td>\n",
       "      <td>0</td>\n",
       "      <td>0</td>\n",
       "      <td>0</td>\n",
       "      <td>0</td>\n",
       "      <td>0</td>\n",
       "      <td>0</td>\n",
       "    </tr>\n",
       "  </tbody>\n",
       "</table>\n",
       "<p>5 rows × 7785 columns</p>\n",
       "</div>"
      ],
      "text/plain": [
       "  Label                                                SMS  bruce  wishes  \\\n",
       "0   ham                  [yep, by, the, pretty, sculpture]      0       0   \n",
       "1   ham  [yes, princess, are, you, going, to, make, me,...      0       0   \n",
       "2   ham                    [welp, apparently, he, retired]      0       0   \n",
       "3   ham                                           [havent]      0       0   \n",
       "4   ham  [i, forgot, 2, ask, ü, all, smth, there, s, a,...      0       0   \n",
       "\n",
       "   ive  on  gonnamissu  shared  ends  imprtant  ...  scotland  teacher  \\\n",
       "0    0   0           0       0     0         0  ...         0        0   \n",
       "1    0   0           0       0     0         0  ...         0        0   \n",
       "2    0   0           0       0     0         0  ...         0        0   \n",
       "3    0   0           0       0     0         0  ...         0        0   \n",
       "4    0   2           0       0     0         0  ...         0        0   \n",
       "\n",
       "   instructions  unspoken  06  praises  totes  challenging  31p  tigress  \n",
       "0             0         0   0        0      0            0    0        0  \n",
       "1             0         0   0        0      0            0    0        0  \n",
       "2             0         0   0        0      0            0    0        0  \n",
       "3             0         0   0        0      0            0    0        0  \n",
       "4             0         0   0        0      0            0    0        0  \n",
       "\n",
       "[5 rows x 7785 columns]"
      ]
     },
     "metadata": {},
     "execution_count": 12
    }
   ],
   "metadata": {}
  },
  {
   "cell_type": "markdown",
   "source": [
    "##  Cálcular primero las constantes\r\n",
    "\r\n",
    "Ahora hemos terminado con la limpieza del dataset, creamos el filtro de correo no deseado. \r\n",
    "\r\n",
    "El algoritmo Naive Bayes deberá responder estas dos preguntas para poder clasificar nuevos mensajes:\r\n",
    "\r\n",
    "$$\r\n",
    "\r\n",
    "P(Spam | w_1,w_2, ..., w_n) \\propto P(Spam) \\cdot \\prod_{i=1}^{n}P(w_i|Spam)\r\n",
    "$$\r\n",
    "\r\n",
    "$$\r\n",
    "\r\n",
    "P(Ham | w_1,w_2, ..., w_n) \\propto P(Ham) \\cdot \\prod_{i=1}^{n}P(w_i|Ham)\r\n",
    "\r\n",
    "$$\r\n",
    "\r\n",
    "Además, para calcular P(wi|Spam) y P (wi|Ham) dentro de las fórmulas anteriores, necesitaremos usar estas ecuaciones:\r\n",
    "$$\r\n",
    "\r\n",
    "P(w_i|Spam) = \\frac{N_{w_i|Spam} + \\alpha}{N_{Spam} + \\alpha \\cdot N_{Vocabulary}}\r\n",
    "$$\r\n",
    "\r\n",
    "$$\r\n",
    "P(w_i|Ham) = \\frac{N_{w_i|Ham} + \\alpha}{N_{Ham} + \\alpha \\cdot N_{Vocabulary}}\r\n",
    "$$\r\n",
    "A continuación, usaremos nuestro conjunto de entrenamiento para calcular:\r\n",
    "* P(Spam) and P(Ham)\r\n",
    "* NSpam, NHam, NVocabulary\r\n",
    "\r\n",
    "Usaremos Laplace  $\\alpha = 1$."
   ],
   "metadata": {}
  },
  {
   "cell_type": "code",
   "execution_count": 13,
   "source": [
    "# Isolating spam and ham messages first\r\n",
    "spam_messages = training_set_clean[training_set_clean['Label'] == 'spam']\r\n",
    "ham_messages = training_set_clean[training_set_clean['Label'] == 'ham']\r\n",
    "\r\n",
    "# P(Spam) and P(Ham)\r\n",
    "p_spam = len(spam_messages) / len(training_set_clean)\r\n",
    "p_ham = len(ham_messages) / len(training_set_clean)\r\n",
    "\r\n",
    "# N_Spam\r\n",
    "n_words_per_spam_message = spam_messages['SMS'].apply(len)\r\n",
    "n_spam = n_words_per_spam_message.sum()\r\n",
    "\r\n",
    "# N_Ham\r\n",
    "n_words_per_ham_message = ham_messages['SMS'].apply(len)\r\n",
    "n_ham = n_words_per_ham_message.sum()\r\n",
    "\r\n",
    "# N_Vocabulary\r\n",
    "n_vocabulary = len(vocabulary)\r\n",
    "\r\n",
    "# Laplace smoothing\r\n",
    "alpha = 1"
   ],
   "outputs": [],
   "metadata": {}
  },
  {
   "cell_type": "markdown",
   "source": [
    "## Cálculo de parámetros\r\n",
    "\r\n",
    "Now that we have the constant terms calculated above, we can move on with calculating the parameters $P(w_i|Spam)$ and $P(w_i|Ham)$. Each parameter will thus be a conditional probability value associated with each word in the vocabulary.\r\n",
    "\r\n",
    "Ahora que tenemos los términos constantes calculados anteriormente, podemos continuar con el cálculo de los parámetros $P(w_i|Spam)$ y $P(w_i|Ham)$ Por tanto, cada parámetro será un valor de probabilidad condicional asociado con cada palabra del vocabulario.\r\n",
    "\r\n",
    "Los parámetros se calculan mediante las fórmulas:\r\n",
    "\r\n",
    "$$\r\n",
    "\r\n",
    "P(w_i|Spam) = \\frac{N_{w_i|Spam} + \\alpha}{N_{Spam} + \\alpha \\cdot N_{Vocabulary}}\r\n",
    "$$\r\n",
    "\r\n",
    "$$\r\n",
    "P(w_i|Ham) = \\frac{N_{w_i|Ham} + \\alpha}{N_{Ham} + \\alpha \\cdot N_{Vocabulary}}\r\n",
    "$$"
   ],
   "metadata": {}
  },
  {
   "cell_type": "code",
   "execution_count": 14,
   "source": [
    "# Initiate parameters\r\n",
    "parameters_spam = {unique_word:0 for unique_word in vocabulary}\r\n",
    "parameters_ham = {unique_word:0 for unique_word in vocabulary}\r\n",
    "\r\n",
    "# Calculate parameters\r\n",
    "for word in vocabulary:\r\n",
    "    n_word_given_spam = spam_messages[word].sum()   # spam_messages already defined in a cell above\r\n",
    "    p_word_given_spam = (n_word_given_spam + alpha) / (n_spam + alpha*n_vocabulary)\r\n",
    "    parameters_spam[word] = p_word_given_spam\r\n",
    "    \r\n",
    "    n_word_given_ham = ham_messages[word].sum()   # ham_messages already defined in a cell above\r\n",
    "    p_word_given_ham = (n_word_given_ham + alpha) / (n_ham + alpha*n_vocabulary)\r\n",
    "    parameters_ham[word] = p_word_given_ham"
   ],
   "outputs": [],
   "metadata": {}
  },
  {
   "cell_type": "markdown",
   "source": [
    "## Clasificando un mensaje nuevo\r\n",
    "\r\n",
    "Ahora que tenemos todos nuestros parámetros calculados, podemos empezar a crear el filtro de spam. El filtro de spam puede entenderse como una función que:\r\n",
    "\r\n",
    " * Toma como entrada un nuevo mensaje (w1, w2, ..., wn).\r\n",
    " * CalculaP(Spam|w1, w2, ..., wn) and P(Ham|w1, w2, ..., wn).\r\n",
    " * Compara los valores de P(Spam|w1, w2, ..., wn) and P(Ham|w1, w2, ..., wn), y:\r\n",
    "  * If P(Ham|w1, w2, ..., wn) > P(Spam|w1, w2, ..., wn), then el mensaje es classificado como ham.\r\n",
    "  * If P(Ham|w1, w2, ..., wn) < P(Spam|w1, w2, ..., wn), then el mensaje es classificado como.\r\n",
    "  * If P(Ham|w1, w2, ..., wn) = P(Spam|w1, w2, ..., wn), then  el algoritmo puede solicitar human help."
   ],
   "metadata": {}
  },
  {
   "cell_type": "code",
   "execution_count": 15,
   "source": [
    "import re\r\n",
    "\r\n",
    "def classify(message):\r\n",
    "    '''\r\n",
    "    message: a string\r\n",
    "    '''\r\n",
    "    \r\n",
    "    message = re.sub('\\W', ' ', message)\r\n",
    "    message = message.lower().split()\r\n",
    "    \r\n",
    "    p_spam_given_message = p_spam\r\n",
    "    p_ham_given_message = p_ham\r\n",
    "\r\n",
    "    for word in message:\r\n",
    "        if word in parameters_spam:\r\n",
    "            p_spam_given_message *= parameters_spam[word]\r\n",
    "            \r\n",
    "        if word in parameters_ham:\r\n",
    "            p_ham_given_message *= parameters_ham[word]\r\n",
    "            \r\n",
    "    print('P(Spam|message):', p_spam_given_message)\r\n",
    "    print('P(Ham|message):', p_ham_given_message)\r\n",
    "    \r\n",
    "    if p_ham_given_message > p_spam_given_message:\r\n",
    "        print('Label: Ham')\r\n",
    "    elif p_ham_given_message < p_spam_given_message:\r\n",
    "        print('Label: Spam')\r\n",
    "    else:\r\n",
    "        print('Equal proabilities, have a human classify this!')"
   ],
   "outputs": [],
   "metadata": {}
  },
  {
   "cell_type": "code",
   "execution_count": 16,
   "source": [
    "classify('WINNER!! This is the secret code to unlock the money: C3421.')"
   ],
   "outputs": [
    {
     "output_type": "stream",
     "name": "stdout",
     "text": [
      "P(Spam|message): 1.3481290211300841e-25\n",
      "P(Ham|message): 1.9368049028589875e-27\n",
      "Label: Spam\n"
     ]
    }
   ],
   "metadata": {}
  },
  {
   "cell_type": "code",
   "execution_count": 17,
   "source": [
    "classify(\"Sounds good, Tom, then see u there\")"
   ],
   "outputs": [
    {
     "output_type": "stream",
     "name": "stdout",
     "text": [
      "P(Spam|message): 2.4372375665888117e-25\n",
      "P(Ham|message): 3.687530435009238e-21\n",
      "Label: Ham\n"
     ]
    }
   ],
   "metadata": {}
  },
  {
   "cell_type": "markdown",
   "source": [
    "## Medición de la precisión del filtro de spam\r\n",
    "\r\n",
    "Los dos resultados anteriores parecen prometedores, pero veamos qué tan bien funciona el filtro en nuestro conjunto de prueba, que tiene 1114 mensajes.\r\n",
    "\r\n",
    "Comenzaremos escribiendo una función que devuelva etiquetas de clasificación en lugar de imprimirlas."
   ],
   "metadata": {}
  },
  {
   "cell_type": "code",
   "execution_count": 18,
   "source": [
    "def classify_test_set(message):    \r\n",
    "    '''\r\n",
    "    message: a string\r\n",
    "    '''\r\n",
    "    \r\n",
    "    message = re.sub('\\W', ' ', message)\r\n",
    "    message = message.lower().split()\r\n",
    "    \r\n",
    "    p_spam_given_message = p_spam\r\n",
    "    p_ham_given_message = p_ham\r\n",
    "\r\n",
    "    for word in message:\r\n",
    "        if word in parameters_spam:\r\n",
    "            p_spam_given_message *= parameters_spam[word]\r\n",
    "            \r\n",
    "        if word in parameters_ham:\r\n",
    "            p_ham_given_message *= parameters_ham[word]\r\n",
    "    \r\n",
    "    if p_ham_given_message > p_spam_given_message:\r\n",
    "        return 'ham'\r\n",
    "    elif p_spam_given_message > p_ham_given_message:\r\n",
    "        return 'spam'\r\n",
    "    else:\r\n",
    "        return 'needs human classification'"
   ],
   "outputs": [],
   "metadata": {}
  },
  {
   "cell_type": "markdown",
   "source": [
    "Ahora que tenemos una función que devuelve etiquetas en lugar de imprimirlas, podemos usarla para crear una nueva columna en nuestro conjunto de prueba."
   ],
   "metadata": {}
  },
  {
   "cell_type": "code",
   "execution_count": 19,
   "source": [
    "test_set['predicted'] = test_set['SMS'].apply(classify_test_set)\r\n",
    "test_set.head()"
   ],
   "outputs": [
    {
     "output_type": "execute_result",
     "data": {
      "text/html": [
       "<div>\n",
       "<style scoped>\n",
       "    .dataframe tbody tr th:only-of-type {\n",
       "        vertical-align: middle;\n",
       "    }\n",
       "\n",
       "    .dataframe tbody tr th {\n",
       "        vertical-align: top;\n",
       "    }\n",
       "\n",
       "    .dataframe thead th {\n",
       "        text-align: right;\n",
       "    }\n",
       "</style>\n",
       "<table border=\"1\" class=\"dataframe\">\n",
       "  <thead>\n",
       "    <tr style=\"text-align: right;\">\n",
       "      <th></th>\n",
       "      <th>Label</th>\n",
       "      <th>SMS</th>\n",
       "      <th>predicted</th>\n",
       "    </tr>\n",
       "  </thead>\n",
       "  <tbody>\n",
       "    <tr>\n",
       "      <th>0</th>\n",
       "      <td>ham</td>\n",
       "      <td>Later i guess. I needa do mcat study too.</td>\n",
       "      <td>ham</td>\n",
       "    </tr>\n",
       "    <tr>\n",
       "      <th>1</th>\n",
       "      <td>ham</td>\n",
       "      <td>But i haf enuff space got like 4 mb...</td>\n",
       "      <td>ham</td>\n",
       "    </tr>\n",
       "    <tr>\n",
       "      <th>2</th>\n",
       "      <td>spam</td>\n",
       "      <td>Had your mobile 10 mths? Update to latest Oran...</td>\n",
       "      <td>spam</td>\n",
       "    </tr>\n",
       "    <tr>\n",
       "      <th>3</th>\n",
       "      <td>ham</td>\n",
       "      <td>All sounds good. Fingers . Makes it difficult ...</td>\n",
       "      <td>ham</td>\n",
       "    </tr>\n",
       "    <tr>\n",
       "      <th>4</th>\n",
       "      <td>ham</td>\n",
       "      <td>All done, all handed in. Don't know if mega sh...</td>\n",
       "      <td>ham</td>\n",
       "    </tr>\n",
       "  </tbody>\n",
       "</table>\n",
       "</div>"
      ],
      "text/plain": [
       "  Label                                                SMS predicted\n",
       "0   ham          Later i guess. I needa do mcat study too.       ham\n",
       "1   ham             But i haf enuff space got like 4 mb...       ham\n",
       "2  spam  Had your mobile 10 mths? Update to latest Oran...      spam\n",
       "3   ham  All sounds good. Fingers . Makes it difficult ...       ham\n",
       "4   ham  All done, all handed in. Don't know if mega sh...       ham"
      ]
     },
     "metadata": {},
     "execution_count": 19
    }
   ],
   "metadata": {}
  },
  {
   "cell_type": "markdown",
   "source": [
    "Ahora, escribiremos una función para medir la precisión de nuestro filtro de correo no deseado y averiguar qué tan bien lo hace nuestro filtro de correo no deseado."
   ],
   "metadata": {}
  },
  {
   "cell_type": "code",
   "execution_count": 20,
   "source": [
    "correct = 0\r\n",
    "total = test_set.shape[0]\r\n",
    "    \r\n",
    "for row in test_set.iterrows():\r\n",
    "    row = row[1]\r\n",
    "    if row['Label'] == row['predicted']:\r\n",
    "        correct += 1\r\n",
    "        \r\n",
    "print('Correct:', correct)\r\n",
    "print('Incorrect:', total - correct)\r\n",
    "print('Accuracy:', correct/total)"
   ],
   "outputs": [
    {
     "output_type": "stream",
     "name": "stdout",
     "text": [
      "Correct: 1100\n",
      "Incorrect: 14\n",
      "Accuracy: 0.9874326750448833\n"
     ]
    }
   ],
   "metadata": {}
  },
  {
   "cell_type": "markdown",
   "source": [
    "No ha visto en los entrenamientos y ha clasificado 1.100 correctamente\r\n",
    "\r\n"
   ],
   "metadata": {}
  },
  {
   "cell_type": "code",
   "execution_count": null,
   "source": [],
   "outputs": [],
   "metadata": {}
  }
 ],
 "metadata": {
  "kernelspec": {
   "name": "python3",
   "display_name": "Python 3.8.11 64-bit ('base': conda)"
  },
  "language_info": {
   "codemirror_mode": {
    "name": "ipython",
    "version": 3
   },
   "file_extension": ".py",
   "mimetype": "text/x-python",
   "name": "python",
   "nbconvert_exporter": "python",
   "pygments_lexer": "ipython3",
   "version": "3.8.11"
  },
  "interpreter": {
   "hash": "b3ba2566441a7c06988d0923437866b63cedc61552a5af99d1f4fb67d367b25f"
  }
 },
 "nbformat": 4,
 "nbformat_minor": 4
}